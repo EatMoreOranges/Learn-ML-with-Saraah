{
 "cells": [
  {
   "cell_type": "markdown",
   "metadata": {},
   "source": [
    "## Lot frontage:\n",
    "\n",
    "When it comes to real estate, more land is almost always better. The width of a lot is an important factor in determining the value of real estate. A wider lot will allow for a larger house, and often allow for more space between homes or buildings. Wide lots also allow decent parking on front streets or duplexes to be built on the lot as long as the zoning permits it.\n",
    "It should be noted that there are times when frontage can be a bit of trouble, as in cases where a front sidewalk needs to be shoveled in the winter or a wide boulevard needs to be maintained by the owner.\n",
    "In the case of frontage in a commercial sense, larger is always more valuable. A lot can be long, or it can be wide – but if you want maximum exposure when it comes to advertising a business, you’ll want a wide building, not a long (or deep) one. A large amount of frontage means larger signs and possibly more storefront or window display area and the possibility of signage.\n",
    "\n",
    "- i gave data points with an n/a value a 0 as a replacement. may want to further explore a better value replacemnt\n",
    "\n"
   ]
  },
  {
   "cell_type": "code",
   "execution_count": null,
   "metadata": {},
   "outputs": [],
   "source": []
  }
 ],
 "metadata": {
  "kernelspec": {
   "display_name": "Python 3",
   "language": "python",
   "name": "python3"
  },
  "language_info": {
   "codemirror_mode": {
    "name": "ipython",
    "version": 3
   },
   "file_extension": ".py",
   "mimetype": "text/x-python",
   "name": "python",
   "nbconvert_exporter": "python",
   "pygments_lexer": "ipython3",
   "version": "3.8.5"
  }
 },
 "nbformat": 4,
 "nbformat_minor": 4
}
